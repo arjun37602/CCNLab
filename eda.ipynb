{
 "metadata": {
  "language_info": {
   "codemirror_mode": {
    "name": "ipython",
    "version": 3
   },
   "file_extension": ".py",
   "mimetype": "text/x-python",
   "name": "python",
   "nbconvert_exporter": "python",
   "pygments_lexer": "ipython3",
   "version": "3.9.1-final"
  },
  "orig_nbformat": 2,
  "kernelspec": {
   "name": "python3",
   "display_name": "Python 3.9.1 64-bit",
   "metadata": {
    "interpreter": {
     "hash": "7812ea015bdcee6f23a998adcdd2ef97c151c0c241b7b7070987d9313e41299d"
    }
   }
  }
 },
 "nbformat": 4,
 "nbformat_minor": 2,
 "cells": [
  {
   "cell_type": "code",
   "execution_count": 99,
   "metadata": {},
   "outputs": [],
   "source": [
    "import requests\n",
    "from bs4 import BeautifulSoup\n",
    "import pandas as pd\n",
    "import re"
   ]
  },
  {
   "cell_type": "code",
   "execution_count": 115,
   "metadata": {},
   "outputs": [],
   "source": [
    "users = []\n",
    "dates = []\n",
    "goals = []\n",
    "contract_id = []\n",
    "category = []\n",
    "#mimics browser request\n",
    "headers = {\n",
    "    'User-Agent': 'Mozilla/5.0 (Windows NT 10.0; Win64; x64) AppleWebKit/537.36 (KHTML, like Gecko) Chrome/58.0.3029.110 Safari/537.3'}"
   ]
  },
  {
   "cell_type": "code",
   "execution_count": 116,
   "metadata": {
    "tags": []
   },
   "outputs": [],
   "source": [
    "\n",
    "url = \"https://www.stickk.com/communities/index?type=weight\"\n",
    "response = requests.get(url, headers=headers)\n",
    "html = BeautifulSoup(response.content, 'html.parser')\n",
    "entries = html.find_all('div', class_='communitiesStickkLiveTextContainer')\n",
    "# extract features from raw HTML\n",
    "#<a class=\"communitiesCommunityJournalUsername\" href=\"/commitment/601182\">\n",
    "for entry in entries:\n",
    "    dates.append(entry.find('span', class_=\"communitiesStickkLiveTime\"))\n",
    "    users.append(entry.find('a', class_=\"communitiesCommunityJournalUsername\"))\n",
    "    goals.append(entry.find('span', class_=\"communityJournalJournal\"))\n",
    "    contract_id.append(entry.find('a', class_='communitiesCommunityJournalUsername')['href'])\n",
    "    category.append('Weight')\n",
    "url2 = \"https://www.stickk.com/communities/index?type=gym\" \n",
    "response2 = requests.get(url2, headers=headers)\n",
    "html2 = BeautifulSoup(response2.content, 'html.parser')\n",
    "entries2 = html2.find_all('div', class_='communitiesStickkLiveTextContainer')\n",
    "for entry2 in entries2:\n",
    "    dates.append(entry2.find('span', class_=\"communitiesStickkLiveTime\"))\n",
    "    users.append(entry2.find('a', class_=\"communitiesCommunityJournalUsername\"))\n",
    "    goals.append(entry2.find('span', class_=\"communityJournalJournal\"))\n",
    "    contract_id.append(entry2.find('a', class_='communitiesCommunityJournalUsername')['href'])\n",
    "    category.append('Gym')\n",
    "url3 = \"https://www.stickk.com/communities/index?type=savemoney\" \n",
    "response3 = requests.get(url3, headers=headers)\n",
    "html3 = BeautifulSoup(response3.content, 'html.parser')\n",
    "entries3 = html3.find_all('div', class_='communitiesStickkLiveTextContainer')\n",
    "for entry3 in entries3:\n",
    "    dates.append(entry3.find('span', class_=\"communitiesStickkLiveTime\"))\n",
    "    users.append(entry3.find('a', class_=\"communitiesCommunityJournalUsername\"))\n",
    "    goals.append(entry3.find('span', class_=\"communityJournalJournal\"))\n",
    "    contract_id.append(entry3.find('a', class_='communitiesCommunityJournalUsername')['href'])\n",
    "    category.append('Save Money')\n",
    "url4 = \"https://stickk.com/communities/index?type=family\" \n",
    "response4 = requests.get(url4, headers=headers)\n",
    "html4 = BeautifulSoup(response4.content, 'html.parser')\n",
    "entries4 = html4.find_all('div', class_='communitiesStickkLiveTextContainer')\n",
    "for entry4 in entries4:\n",
    "    dates.append(entry4.find('span', class_=\"communitiesStickkLiveTime\"))\n",
    "    users.append(entry4.find('a', class_=\"communitiesCommunityJournalUsername\"))\n",
    "    goals.append(entry4.find('span', class_=\"communityJournalJournal\"))\n",
    "    contract_id.append(entry4.find('a', class_='communitiesCommunityJournalUsername')['href'])\n",
    "    category.append('Family')\n",
    "url5 = \"https://www.stickk.com/communities/index?type=sports\" \n",
    "response5 = requests.get(url5, headers=headers)\n",
    "html5 = BeautifulSoup(response5.content, 'html.parser')\n",
    "entries5 = html5.find_all('div', class_='communitiesStickkLiveTextContainer')\n",
    "for entry5 in entries5:\n",
    "    dates.append(entry5.find('span', class_=\"communitiesStickkLiveTime\"))\n",
    "    users.append(entry5.find('a', class_=\"communitiesCommunityJournalUsername\"))\n",
    "    goals.append(entry5.find('span', class_=\"communityJournalJournal\"))\n",
    "    contract_id.append(entry5.find('a', class_='communitiesCommunityJournalUsername')['href'])\n",
    "    category.append('Sports, Hobbies, Recreation')\n",
    "url6 = \"https://www.stickk.com/communities/index?type=education\"\n",
    "response6 = requests.get(url6, headers=headers)\n",
    "html6 = BeautifulSoup(response6.content, 'html.parser')\n",
    "entries6 = html6.find_all('div', class_='communitiesStickkLiveTextContainer')\n",
    "for entry6 in entries6:\n",
    "    dates.append(entry6.find('span', class_=\"communitiesStickkLiveTime\"))\n",
    "    users.append(entry6.find('a', class_=\"communitiesCommunityJournalUsername\"))\n",
    "    goals.append(entry6.find('span', class_=\"communityJournalJournal\"))\n",
    "    contract_id.append(entry6.find('a', class_='communitiesCommunityJournalUsername')['href'])\n",
    "    category.append('Education & Knowledge')"
   ]
  },
  {
   "cell_type": "code",
   "execution_count": 117,
   "metadata": {},
   "outputs": [],
   "source": [
    "for i, user in enumerate(users):\n",
    "    if \"\\n\" in user:\n",
    "        users[i] = user.replace(\"\\n\", \"\")\n",
    "for i, date in enumerate(dates):\n",
    "    date = str(date)\n",
    "    pat = r\">([^<]+)</span>\"\n",
    "    dates[i] = re.findall(pat, date)\n",
    "    if \"\\n\" in dates[i]:\n",
    "        dates[i] = dates[i].replace(\"\\n\", \"\")\n",
    "for i, user in enumerate(users):\n",
    "    user = str(user)\n",
    "    pat = r\">([^<]+)</a>\"\n",
    "    users[i] = re.findall(pat, user)\n",
    "for i, goal in enumerate(goals):\n",
    "    goal = str(goal)\n",
    "    pat = r\">([^<]+)</span>\"\n",
    "    goals[i] = re.findall(pat, goal)\n",
    "pattern = r\"commitment/(\\d+)\"\n",
    "for j, i in enumerate(contract_id):\n",
    "    i = str(i)\n",
    "    temp = re.findall(pattern, i)\n",
    "    contract_id[j] = temp\n",
    "\n",
    "df = pd.DataFrame({'Date': dates, 'Users': users, 'Entry': goals, 'Category': category})"
   ]
  },
  {
   "cell_type": "code",
   "execution_count": 118,
   "metadata": {},
   "outputs": [
    {
     "output_type": "execute_result",
     "data": {
      "text/plain": [
       "                          Date            Users  \\\n",
       "0   [\\nApr 10, 2024, 3:16 PM ]  [\\npty-dulcel ]   \n",
       "1   [\\nApr 10, 2024, 2:17 PM ]  [\\npdisperati ]   \n",
       "2  [\\nApr 10, 2024, 12:31 PM ]  [\\nBest_fifty ]   \n",
       "3  [\\nApr 10, 2024, 12:12 PM ]    [\\nAmeliaJC ]   \n",
       "4  [\\nApr 10, 2024, 11:45 AM ]     [\\nDavidGM ]   \n",
       "\n",
       "                                               Entry Category  \n",
       "0                                         [\"Feliz!\"]   Weight  \n",
       "1                                     [\"It’s hard!\"]   Weight  \n",
       "2  [\"eat lots of leafy greens and avoid process f...   Weight  \n",
       "3  [\"Managed it. Thinking that one key is the eve...   Weight  \n",
       "4  [\"Made it, even though it continues to be a st...   Weight  "
      ],
      "text/html": "<div>\n<style scoped>\n    .dataframe tbody tr th:only-of-type {\n        vertical-align: middle;\n    }\n\n    .dataframe tbody tr th {\n        vertical-align: top;\n    }\n\n    .dataframe thead th {\n        text-align: right;\n    }\n</style>\n<table border=\"1\" class=\"dataframe\">\n  <thead>\n    <tr style=\"text-align: right;\">\n      <th></th>\n      <th>Date</th>\n      <th>Users</th>\n      <th>Entry</th>\n      <th>Category</th>\n    </tr>\n  </thead>\n  <tbody>\n    <tr>\n      <th>0</th>\n      <td>[\\nApr 10, 2024, 3:16 PM ]</td>\n      <td>[\\npty-dulcel ]</td>\n      <td>[\"Feliz!\"]</td>\n      <td>Weight</td>\n    </tr>\n    <tr>\n      <th>1</th>\n      <td>[\\nApr 10, 2024, 2:17 PM ]</td>\n      <td>[\\npdisperati ]</td>\n      <td>[\"It’s hard!\"]</td>\n      <td>Weight</td>\n    </tr>\n    <tr>\n      <th>2</th>\n      <td>[\\nApr 10, 2024, 12:31 PM ]</td>\n      <td>[\\nBest_fifty ]</td>\n      <td>[\"eat lots of leafy greens and avoid process f...</td>\n      <td>Weight</td>\n    </tr>\n    <tr>\n      <th>3</th>\n      <td>[\\nApr 10, 2024, 12:12 PM ]</td>\n      <td>[\\nAmeliaJC ]</td>\n      <td>[\"Managed it. Thinking that one key is the eve...</td>\n      <td>Weight</td>\n    </tr>\n    <tr>\n      <th>4</th>\n      <td>[\\nApr 10, 2024, 11:45 AM ]</td>\n      <td>[\\nDavidGM ]</td>\n      <td>[\"Made it, even though it continues to be a st...</td>\n      <td>Weight</td>\n    </tr>\n  </tbody>\n</table>\n</div>"
     },
     "metadata": {},
     "execution_count": 118
    }
   ],
   "source": [
    "df.head()"
   ]
  },
  {
   "cell_type": "code",
   "execution_count": 122,
   "metadata": {},
   "outputs": [
    {
     "output_type": "stream",
     "name": "stdout",
     "text": [
      "[]\n"
     ]
    },
    {
     "output_type": "error",
     "ename": "AttributeError",
     "evalue": "ResultSet object has no attribute 'find'. You're probably treating a list of elements like a single element. Did you call find_all() when you meant to call find()?",
     "traceback": [
      "\u001b[0;31m---------------------------------------------------------------------------\u001b[0m",
      "\u001b[0;31mAttributeError\u001b[0m                            Traceback (most recent call last)",
      "Cell \u001b[0;32mIn[122], line 13\u001b[0m\n\u001b[1;32m     11\u001b[0m     current_weight \u001b[38;5;241m=\u001b[39m []\n\u001b[1;32m     12\u001b[0m     on_paceto_weight \u001b[38;5;241m=\u001b[39m []\n\u001b[0;32m---> 13\u001b[0m     target\u001b[38;5;241m.\u001b[39mappend(\u001b[43mtarget_entries\u001b[49m\u001b[38;5;241;43m.\u001b[39;49m\u001b[43mfind\u001b[49m(\u001b[38;5;124m'\u001b[39m\u001b[38;5;124mspan\u001b[39m\u001b[38;5;124m'\u001b[39m,\u001b[38;5;28mid\u001b[39m\u001b[38;5;241m=\u001b[39m\u001b[38;5;124m\"\u001b[39m\u001b[38;5;124mcommitmentTitle\u001b[39m\u001b[38;5;124m\"\u001b[39m))\n\u001b[1;32m     14\u001b[0m     \u001b[38;5;28mprint\u001b[39m(target_entries\u001b[38;5;241m.\u001b[39mfind(\u001b[38;5;124m'\u001b[39m\u001b[38;5;124mspan\u001b[39m\u001b[38;5;124m'\u001b[39m, class_\u001b[38;5;241m=\u001b[39m\u001b[38;5;124m\"\u001b[39m\u001b[38;5;124mcell2\u001b[39m\u001b[38;5;124m\"\u001b[39m))\n\u001b[1;32m     15\u001b[0m \u001b[38;5;28mprint\u001b[39m(target)\n",
      "File \u001b[0;32m/Library/Frameworks/Python.framework/Versions/3.9/lib/python3.9/site-packages/bs4/element.py:2289\u001b[0m, in \u001b[0;36mResultSet.__getattr__\u001b[0;34m(self, key)\u001b[0m\n\u001b[1;32m   2287\u001b[0m \u001b[38;5;28;01mdef\u001b[39;00m \u001b[38;5;21m__getattr__\u001b[39m(\u001b[38;5;28mself\u001b[39m, key):\n\u001b[1;32m   2288\u001b[0m \u001b[38;5;250m    \u001b[39m\u001b[38;5;124;03m\"\"\"Raise a helpful exception to explain a common code fix.\"\"\"\u001b[39;00m\n\u001b[0;32m-> 2289\u001b[0m     \u001b[38;5;28;01mraise\u001b[39;00m \u001b[38;5;167;01mAttributeError\u001b[39;00m(\n\u001b[1;32m   2290\u001b[0m         \u001b[38;5;124m\"\u001b[39m\u001b[38;5;124mResultSet object has no attribute \u001b[39m\u001b[38;5;124m'\u001b[39m\u001b[38;5;132;01m%s\u001b[39;00m\u001b[38;5;124m'\u001b[39m\u001b[38;5;124m. You\u001b[39m\u001b[38;5;124m'\u001b[39m\u001b[38;5;124mre probably treating a list of elements like a single element. Did you call find_all() when you meant to call find()?\u001b[39m\u001b[38;5;124m\"\u001b[39m \u001b[38;5;241m%\u001b[39m key\n\u001b[1;32m   2291\u001b[0m     )\n",
      "\u001b[0;31mAttributeError\u001b[0m: ResultSet object has no attribute 'find'. You're probably treating a list of elements like a single element. Did you call find_all() when you meant to call find()?"
     ]
    }
   ],
   "source": [
    "for contract in contract_id:\n",
    "    target_url = 'https://www.stickk.com/commitment/details/' + str(contract)\n",
    "    target_response = requests.get(target_url, headers=headers)\n",
    "    target_html = BeautifulSoup(target_response.content, 'html.parser')\n",
    "    target_entries = target_html.find_all('div', class_='commitmentSummaryContainer')\n",
    "    print(target_entries)\n",
    "    ultimate_goal = []\n",
    "    target_weight = []\n",
    "    weekly_loss_pace = []\n",
    "    actual_loss_pace = []\n",
    "    current_weight = []\n",
    "    on_paceto_weight = []\n",
    "    target.append(target_entries.find('span',id=\"commitmentTitle\"))\n",
    "    print(target_entries.find('span', class_=\"cell2\"))\n",
    "print(target)"
   ]
  },
  {
   "cell_type": "code",
   "execution_count": 85,
   "metadata": {},
   "outputs": [
    {
     "output_type": "stream",
     "name": "stdout",
     "text": [
      "[]\n"
     ]
    }
   ],
   "source": []
  },
  {
   "cell_type": "code",
   "execution_count": null,
   "metadata": {},
   "outputs": [],
   "source": []
  }
 ]
}