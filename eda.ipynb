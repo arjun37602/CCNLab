{
 "metadata": {
  "language_info": {
   "codemirror_mode": {
    "name": "ipython",
    "version": 3
   },
   "file_extension": ".py",
   "mimetype": "text/x-python",
   "name": "python",
   "nbconvert_exporter": "python",
   "pygments_lexer": "ipython3",
   "version": "3.9.1-final"
  },
  "orig_nbformat": 2,
  "kernelspec": {
   "name": "python3",
   "display_name": "Python 3.9.1 64-bit",
   "metadata": {
    "interpreter": {
     "hash": "7812ea015bdcee6f23a998adcdd2ef97c151c0c241b7b7070987d9313e41299d"
    }
   }
  }
 },
 "nbformat": 4,
 "nbformat_minor": 2,
 "cells": [
  {
   "source": [
    "# Webscraping Stickk"
   ],
   "cell_type": "markdown",
   "metadata": {}
  },
  {
   "cell_type": "code",
   "execution_count": 1,
   "metadata": {},
   "outputs": [],
   "source": [
    "import requests\n",
    "from bs4 import BeautifulSoup\n",
    "import pandas as pd\n",
    "import re"
   ]
  },
  {
   "cell_type": "code",
   "execution_count": 2,
   "metadata": {},
   "outputs": [],
   "source": [
    "users = []\n",
    "dates = []\n",
    "goals = []\n",
    "contract_id = []\n",
    "category = []\n",
    "#mimics browser request\n",
    "headers = {\n",
    "    'User-Agent': 'Mozilla/5.0 (Windows NT 10.0; Win64; x64) AppleWebKit/537.36 (KHTML, like Gecko) Chrome/58.0.3029.110 Safari/537.3'}"
   ]
  },
  {
   "source": [
    "## Requests for individual entries"
   ],
   "cell_type": "markdown",
   "metadata": {}
  },
  {
   "cell_type": "code",
   "execution_count": 3,
   "metadata": {
    "tags": []
   },
   "outputs": [],
   "source": [
    "\n",
    "url = \"https://www.stickk.com/communities/index?type=weight\"\n",
    "response = requests.get(url, headers=headers)\n",
    "html = BeautifulSoup(response.content, 'html.parser')\n",
    "entries = html.find_all('div', class_='communitiesStickkLiveTextContainer')\n",
    "# extract features from raw HTML\n",
    "#<a class=\"communitiesCommunityJournalUsername\" href=\"/commitment/601182\">\n",
    "for entry in entries:\n",
    "    dates.append(entry.find('span', class_=\"communitiesStickkLiveTime\"))\n",
    "    users.append(entry.find('a', class_=\"communitiesCommunityJournalUsername\"))\n",
    "    goals.append(entry.find('span', class_=\"communityJournalJournal\"))\n",
    "    contract_id.append(entry.find('a', class_='communitiesCommunityJournalUsername')['href'])\n",
    "    category.append('Weight')\n",
    "url2 = \"https://www.stickk.com/communities/index?type=gym\" \n",
    "response2 = requests.get(url2, headers=headers)\n",
    "html2 = BeautifulSoup(response2.content, 'html.parser')\n",
    "entries2 = html2.find_all('div', class_='communitiesStickkLiveTextContainer')\n",
    "for entry2 in entries2:\n",
    "    dates.append(entry2.find('span', class_=\"communitiesStickkLiveTime\"))\n",
    "    users.append(entry2.find('a', class_=\"communitiesCommunityJournalUsername\"))\n",
    "    goals.append(entry2.find('span', class_=\"communityJournalJournal\"))\n",
    "    contract_id.append(entry2.find('a', class_='communitiesCommunityJournalUsername')['href'])\n",
    "    category.append('Gym')\n",
    "url3 = \"https://www.stickk.com/communities/index?type=savemoney\" \n",
    "response3 = requests.get(url3, headers=headers)\n",
    "html3 = BeautifulSoup(response3.content, 'html.parser')\n",
    "entries3 = html3.find_all('div', class_='communitiesStickkLiveTextContainer')\n",
    "for entry3 in entries3:\n",
    "    dates.append(entry3.find('span', class_=\"communitiesStickkLiveTime\"))\n",
    "    users.append(entry3.find('a', class_=\"communitiesCommunityJournalUsername\"))\n",
    "    goals.append(entry3.find('span', class_=\"communityJournalJournal\"))\n",
    "    contract_id.append(entry3.find('a', class_='communitiesCommunityJournalUsername')['href'])\n",
    "    category.append('Save Money')\n",
    "url4 = \"https://stickk.com/communities/index?type=family\" \n",
    "response4 = requests.get(url4, headers=headers)\n",
    "html4 = BeautifulSoup(response4.content, 'html.parser')\n",
    "entries4 = html4.find_all('div', class_='communitiesStickkLiveTextContainer')\n",
    "for entry4 in entries4:\n",
    "    dates.append(entry4.find('span', class_=\"communitiesStickkLiveTime\"))\n",
    "    users.append(entry4.find('a', class_=\"communitiesCommunityJournalUsername\"))\n",
    "    goals.append(entry4.find('span', class_=\"communityJournalJournal\"))\n",
    "    contract_id.append(entry4.find('a', class_='communitiesCommunityJournalUsername')['href'])\n",
    "    category.append('Family')\n",
    "url5 = \"https://www.stickk.com/communities/index?type=sports\" \n",
    "response5 = requests.get(url5, headers=headers)\n",
    "html5 = BeautifulSoup(response5.content, 'html.parser')\n",
    "entries5 = html5.find_all('div', class_='communitiesStickkLiveTextContainer')\n",
    "for entry5 in entries5:\n",
    "    dates.append(entry5.find('span', class_=\"communitiesStickkLiveTime\"))\n",
    "    users.append(entry5.find('a', class_=\"communitiesCommunityJournalUsername\"))\n",
    "    goals.append(entry5.find('span', class_=\"communityJournalJournal\"))\n",
    "    contract_id.append(entry5.find('a', class_='communitiesCommunityJournalUsername')['href'])\n",
    "    category.append('Sports, Hobbies, Recreation')\n",
    "url6 = \"https://www.stickk.com/communities/index?type=education\"\n",
    "response6 = requests.get(url6, headers=headers)\n",
    "html6 = BeautifulSoup(response6.content, 'html.parser')\n",
    "entries6 = html6.find_all('div', class_='communitiesStickkLiveTextContainer')\n",
    "for entry6 in entries6:\n",
    "    dates.append(entry6.find('span', class_=\"communitiesStickkLiveTime\"))\n",
    "    users.append(entry6.find('a', class_=\"communitiesCommunityJournalUsername\"))\n",
    "    goals.append(entry6.find('span', class_=\"communityJournalJournal\"))\n",
    "    contract_id.append(entry6.find('a', class_='communitiesCommunityJournalUsername')['href'])\n",
    "    category.append('Education & Knowledge')"
   ]
  },
  {
   "cell_type": "code",
   "execution_count": 4,
   "metadata": {},
   "outputs": [],
   "source": [
    "for i, user in enumerate(users):\n",
    "    if \"\\n\" in user:\n",
    "        users[i] = user.replace(\"\\n\", \"\")\n",
    "for i, date in enumerate(dates):\n",
    "    dates[i] = str(date)\n",
    "    if 'span' in date:\n",
    "        pat = r\">([^<]+)</span>\"\n",
    "        dates[i] = re.findall(pat, date)\n",
    "for i, user in enumerate(users):\n",
    "    users[i] = str(users)\n",
    "    if 'a' in date:\n",
    "        pat = r\">([^<]+)</a>\"\n",
    "        users[i] = re.findall(pat, user)\n",
    "for i, goal in enumerate(goals):\n",
    "    goals[i] = str(goal)\n",
    "    if 'span' in goal:\n",
    "        pat = r\">([^<]+)</span>\"\n",
    "        goals[i] = re.findall(pat, goal)\n",
    "pattern = r\"commitment/(\\d+)\"\n",
    "for j, i in enumerate(contract_id):\n",
    "    i = str(i)\n",
    "    if 'commitment' in i:\n",
    "        temp = re.findall(pattern, i)\n",
    "        contract_id[j] = temp[0]\n",
    "    else:\n",
    "        contract_id[j] = i\n",
    "\n",
    "df = pd.DataFrame({'Date': dates, 'Users': users, 'Single Entry': goals, 'Category': category, 'Contract_id': contract_id})\n",
    "df.head()"
   ]
  },
  {
   "cell_type": "code",
   "execution_count": null,
   "metadata": {},
   "outputs": [],
   "source": [
    "def extract_span(word):\n",
    "    word = str(word)\n",
    "    pat = r\">([^<]+)</span>\"\n",
    "    return re.findall(pat, word)[0]\n",
    "def extract_div(word):\n",
    "    word = str(word)\n",
    "    pat = r\">([^<]+)</div>\"\n",
    "    return re.findall(pat, word)[0]"
   ]
  },
  {
   "cell_type": "code",
   "execution_count": null,
   "metadata": {
    "tags": []
   },
   "outputs": [],
   "source": [
    "contract_goals = {}\n",
    "details = {}\n",
    "counter = 0\n",
    "for contract in contract_id:\n",
    "    target_url = 'https://www.stickk.com/commitment/details/' + str(contract) + ''\n",
    "    target_response = requests.get(target_url, headers=headers)\n",
    "    target_html = BeautifulSoup(target_response.content, 'html.parser')\n",
    "    target_entries = target_html.find_all('div', id=\"commitmentSummaryICommitToText\")\n",
    "    # label_entries = target_html.find_all('span', class_=\"label\")\n",
    "    # cell_entries = target_html.find_all('span', class_=\"cell2\")\n",
    "    for tags in target_entries:\n",
    "        val = tags.find('span')\n",
    "        val = extract_span(val)\n",
    "        contract_goals[str(contract)] = val\n",
    "print(contract_goals)\n",
    "# ultimate_goal = []\n",
    "# target_weight = []\n",
    "# weekly_loss_pace = []\n",
    "# actual_loss_pace = []\n",
    "# current_weight = []\n",
    "# on_paceto_weight = []\n",
    "# target.append(target_entries.find('span',id=\"commitmentTitle\"))\n",
    "# print(target_entries.find('span', class_=\"cell2\"))"
   ]
  },
  {
   "cell_type": "code",
   "execution_count": 1,
   "metadata": {},
   "outputs": [
    {
     "output_type": "error",
     "ename": "NameError",
     "evalue": "name 'df' is not defined",
     "traceback": [
      "\u001b[0;31m---------------------------------------------------------------------------\u001b[0m",
      "\u001b[0;31mNameError\u001b[0m                                 Traceback (most recent call last)",
      "Cell \u001b[0;32mIn[1], line 1\u001b[0m\n\u001b[0;32m----> 1\u001b[0m df[\u001b[38;5;124m'\u001b[39m\u001b[38;5;124mUltimate Goal\u001b[39m\u001b[38;5;124m'\u001b[39m] \u001b[38;5;241m=\u001b[39m \u001b[43mdf\u001b[49m[\u001b[38;5;124m'\u001b[39m\u001b[38;5;124mContract_id\u001b[39m\u001b[38;5;124m'\u001b[39m]\u001b[38;5;241m.\u001b[39mmap(contract_goals)\n\u001b[1;32m      2\u001b[0m df\u001b[38;5;241m.\u001b[39mhead()\n",
      "\u001b[0;31mNameError\u001b[0m: name 'df' is not defined"
     ]
    }
   ],
   "source": [
    "df['Ultimate Goal'] = df['Contract_id'].map(contract_goals)\n",
    "df.head()"
   ]
  },
  {
   "cell_type": "code",
   "execution_count": 2,
   "metadata": {},
   "outputs": [
    {
     "output_type": "error",
     "ename": "NameError",
     "evalue": "name 'df' is not defined",
     "traceback": [
      "\u001b[0;31m---------------------------------------------------------------------------\u001b[0m",
      "\u001b[0;31mNameError\u001b[0m                                 Traceback (most recent call last)",
      "Cell \u001b[0;32mIn[2], line 1\u001b[0m\n\u001b[0;32m----> 1\u001b[0m \u001b[43mdf\u001b[49m[\u001b[38;5;124m'\u001b[39m\u001b[38;5;124mUltimate Goal\u001b[39m\u001b[38;5;124m'\u001b[39m]\u001b[38;5;241m.\u001b[39mvalue_counts()\n",
      "\u001b[0;31mNameError\u001b[0m: name 'df' is not defined"
     ]
    }
   ],
   "source": [
    "df['Ultimate Goal'].value_counts()"
   ]
  },
  {
   "cell_type": "code",
   "execution_count": null,
   "metadata": {},
   "outputs": [],
   "source": []
  }
 ]
}